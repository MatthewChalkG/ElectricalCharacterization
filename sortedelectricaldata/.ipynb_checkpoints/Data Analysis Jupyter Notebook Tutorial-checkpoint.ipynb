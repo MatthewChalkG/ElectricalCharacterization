{
 "cells": [
  {
   "cell_type": "markdown",
   "id": "6ef9757e",
   "metadata": {},
   "source": [
    "Here's a tutorial notebook to help you get started with doing data analysis in Jupyter Notebook. Try to run through this and understand what everything does. -- Matt"
   ]
  },
  {
   "cell_type": "markdown",
   "id": "55ce3f5c",
   "metadata": {},
   "source": [
    "First your going to want to import your libraries. You have to do this every time you close the notebook (variables are not saved on closing). The three most common libraries are matplotlib.pyplot (plotting), numpy (math, arrays, etc.), and pandas (loading data, storing data in a conveniently accessible dataframe). To run a cell, press shift + enter while your cursor is in it."
   ]
  },
  {
   "cell_type": "code",
   "execution_count": 1,
   "id": "2d25e68d",
   "metadata": {},
   "outputs": [],
   "source": [
    "import numpy as np\n",
    "import matplotlib.pyplot as plt\n",
    "import pandas as pd"
   ]
  },
  {
   "cell_type": "markdown",
   "id": "b402e860",
   "metadata": {},
   "source": [
    "Next, your going to want to load your data into a dataframe. To be able to access that dataframe, you name it a variable name of your choice."
   ]
  },
  {
   "cell_type": "code",
   "execution_count": 2,
   "id": "35a80749",
   "metadata": {},
   "outputs": [],
   "source": [
    "resistivity_at_25_C = pd.read_csv(\"datalogging/Data/HallEffectDCBias/hallDCBiasSMU1682541631.txt\")"
   ]
  },
  {
   "cell_type": "markdown",
   "id": "66e1d0db",
   "metadata": {},
   "source": [
    "Above, I gave the pandas function read_csv the location and name of the file I wanted to load into a dataframe. After the data was loaded into a dataframe, I gave it a name so I can access it later. Now, I'll look at the first and last five columns of my data, making sure the everything looks ok:"
   ]
  },
  {
   "cell_type": "code",
   "execution_count": 3,
   "id": "ed39a4f3",
   "metadata": {},
   "outputs": [
    {
     "data": {
      "text/html": [
       "<div>\n",
       "<style scoped>\n",
       "    .dataframe tbody tr th:only-of-type {\n",
       "        vertical-align: middle;\n",
       "    }\n",
       "\n",
       "    .dataframe tbody tr th {\n",
       "        vertical-align: top;\n",
       "    }\n",
       "\n",
       "    .dataframe thead th {\n",
       "        text-align: right;\n",
       "    }\n",
       "</style>\n",
       "<table border=\"1\" class=\"dataframe\">\n",
       "  <thead>\n",
       "    <tr style=\"text-align: right;\">\n",
       "      <th></th>\n",
       "      <th>t</th>\n",
       "      <th>i</th>\n",
       "      <th>x</th>\n",
       "      <th>y</th>\n",
       "      <th>r</th>\n",
       "      <th>theta</th>\n",
       "      <th>xK</th>\n",
       "      <th>tc</th>\n",
       "      <th>therm</th>\n",
       "      <th>trueGateDC</th>\n",
       "      <th>trueGateI</th>\n",
       "      <th>x2</th>\n",
       "      <th>y2</th>\n",
       "      <th>r2</th>\n",
       "      <th>theta2</th>\n",
       "    </tr>\n",
       "  </thead>\n",
       "  <tbody>\n",
       "    <tr>\n",
       "      <th>0</th>\n",
       "      <td>1.682542e+09</td>\n",
       "      <td>3.2</td>\n",
       "      <td>-4.091004e-06</td>\n",
       "      <td>-0.000005</td>\n",
       "      <td>0.000006</td>\n",
       "      <td>223.2863</td>\n",
       "      <td>0</td>\n",
       "      <td>0</td>\n",
       "      <td>0</td>\n",
       "      <td>0.000041</td>\n",
       "      <td>4.100051e-10</td>\n",
       "      <td>-0.003248</td>\n",
       "      <td>-0.000046</td>\n",
       "      <td>-0.025072</td>\n",
       "      <td>-179.208</td>\n",
       "    </tr>\n",
       "    <tr>\n",
       "      <th>1</th>\n",
       "      <td>1.682542e+09</td>\n",
       "      <td>-3.2</td>\n",
       "      <td>6.876370e-06</td>\n",
       "      <td>-0.000005</td>\n",
       "      <td>0.000007</td>\n",
       "      <td>320.0058</td>\n",
       "      <td>0</td>\n",
       "      <td>0</td>\n",
       "      <td>0</td>\n",
       "      <td>0.000041</td>\n",
       "      <td>4.100051e-10</td>\n",
       "      <td>-0.003248</td>\n",
       "      <td>-0.000046</td>\n",
       "      <td>-0.025072</td>\n",
       "      <td>-179.208</td>\n",
       "    </tr>\n",
       "    <tr>\n",
       "      <th>2</th>\n",
       "      <td>1.682542e+09</td>\n",
       "      <td>3.2</td>\n",
       "      <td>-4.352126e-07</td>\n",
       "      <td>-0.000005</td>\n",
       "      <td>0.000005</td>\n",
       "      <td>264.5267</td>\n",
       "      <td>0</td>\n",
       "      <td>0</td>\n",
       "      <td>0</td>\n",
       "      <td>0.000041</td>\n",
       "      <td>4.100051e-10</td>\n",
       "      <td>-0.003248</td>\n",
       "      <td>-0.000046</td>\n",
       "      <td>-0.025074</td>\n",
       "      <td>-179.208</td>\n",
       "    </tr>\n",
       "    <tr>\n",
       "      <th>3</th>\n",
       "      <td>1.682542e+09</td>\n",
       "      <td>-3.2</td>\n",
       "      <td>3.951737e-06</td>\n",
       "      <td>-0.000005</td>\n",
       "      <td>0.000006</td>\n",
       "      <td>305.3392</td>\n",
       "      <td>0</td>\n",
       "      <td>0</td>\n",
       "      <td>0</td>\n",
       "      <td>0.000041</td>\n",
       "      <td>4.100051e-10</td>\n",
       "      <td>-0.003248</td>\n",
       "      <td>-0.000046</td>\n",
       "      <td>-0.025072</td>\n",
       "      <td>-179.208</td>\n",
       "    </tr>\n",
       "    <tr>\n",
       "      <th>4</th>\n",
       "      <td>1.682542e+09</td>\n",
       "      <td>3.2</td>\n",
       "      <td>-3.359846e-06</td>\n",
       "      <td>-0.000005</td>\n",
       "      <td>0.000005</td>\n",
       "      <td>243.5022</td>\n",
       "      <td>0</td>\n",
       "      <td>0</td>\n",
       "      <td>0</td>\n",
       "      <td>0.000041</td>\n",
       "      <td>4.100051e-10</td>\n",
       "      <td>-0.003248</td>\n",
       "      <td>-0.000046</td>\n",
       "      <td>-0.025072</td>\n",
       "      <td>-179.208</td>\n",
       "    </tr>\n",
       "    <tr>\n",
       "      <th>...</th>\n",
       "      <td>...</td>\n",
       "      <td>...</td>\n",
       "      <td>...</td>\n",
       "      <td>...</td>\n",
       "      <td>...</td>\n",
       "      <td>...</td>\n",
       "      <td>...</td>\n",
       "      <td>...</td>\n",
       "      <td>...</td>\n",
       "      <td>...</td>\n",
       "      <td>...</td>\n",
       "      <td>...</td>\n",
       "      <td>...</td>\n",
       "      <td>...</td>\n",
       "      <td>...</td>\n",
       "    </tr>\n",
       "    <tr>\n",
       "      <th>1215</th>\n",
       "      <td>1.682551e+09</td>\n",
       "      <td>-3.2</td>\n",
       "      <td>-4.352126e-07</td>\n",
       "      <td>-0.000003</td>\n",
       "      <td>0.000003</td>\n",
       "      <td>243.8864</td>\n",
       "      <td>0</td>\n",
       "      <td>0</td>\n",
       "      <td>0</td>\n",
       "      <td>0.000048</td>\n",
       "      <td>4.675921e-11</td>\n",
       "      <td>-0.003206</td>\n",
       "      <td>-0.000046</td>\n",
       "      <td>-0.025114</td>\n",
       "      <td>-179.196</td>\n",
       "    </tr>\n",
       "    <tr>\n",
       "      <th>1216</th>\n",
       "      <td>1.682552e+09</td>\n",
       "      <td>3.2</td>\n",
       "      <td>-6.284479e-06</td>\n",
       "      <td>-0.000002</td>\n",
       "      <td>0.000006</td>\n",
       "      <td>200.4987</td>\n",
       "      <td>0</td>\n",
       "      <td>0</td>\n",
       "      <td>0</td>\n",
       "      <td>0.000048</td>\n",
       "      <td>4.675921e-11</td>\n",
       "      <td>-0.003206</td>\n",
       "      <td>-0.000046</td>\n",
       "      <td>-0.025114</td>\n",
       "      <td>-179.196</td>\n",
       "    </tr>\n",
       "    <tr>\n",
       "      <th>1217</th>\n",
       "      <td>1.682552e+09</td>\n",
       "      <td>-3.2</td>\n",
       "      <td>2.959457e-07</td>\n",
       "      <td>-0.000002</td>\n",
       "      <td>0.000003</td>\n",
       "      <td>261.9581</td>\n",
       "      <td>0</td>\n",
       "      <td>0</td>\n",
       "      <td>0</td>\n",
       "      <td>0.000048</td>\n",
       "      <td>4.675921e-11</td>\n",
       "      <td>-0.003206</td>\n",
       "      <td>-0.000046</td>\n",
       "      <td>-0.025114</td>\n",
       "      <td>-179.196</td>\n",
       "    </tr>\n",
       "    <tr>\n",
       "      <th>1218</th>\n",
       "      <td>1.682552e+09</td>\n",
       "      <td>3.2</td>\n",
       "      <td>-7.015637e-06</td>\n",
       "      <td>-0.000002</td>\n",
       "      <td>0.000007</td>\n",
       "      <td>194.4436</td>\n",
       "      <td>0</td>\n",
       "      <td>0</td>\n",
       "      <td>0</td>\n",
       "      <td>0.000048</td>\n",
       "      <td>4.675921e-11</td>\n",
       "      <td>-0.003206</td>\n",
       "      <td>-0.000046</td>\n",
       "      <td>-0.025114</td>\n",
       "      <td>-179.196</td>\n",
       "    </tr>\n",
       "    <tr>\n",
       "      <th>1219</th>\n",
       "      <td>1.682552e+09</td>\n",
       "      <td>-3.2</td>\n",
       "      <td>-1.166371e-06</td>\n",
       "      <td>-0.000002</td>\n",
       "      <td>0.000002</td>\n",
       "      <td>277.1792</td>\n",
       "      <td>0</td>\n",
       "      <td>0</td>\n",
       "      <td>0</td>\n",
       "      <td>0.000048</td>\n",
       "      <td>4.675921e-11</td>\n",
       "      <td>-0.003206</td>\n",
       "      <td>-0.000046</td>\n",
       "      <td>-0.025114</td>\n",
       "      <td>-179.196</td>\n",
       "    </tr>\n",
       "  </tbody>\n",
       "</table>\n",
       "<p>1220 rows × 15 columns</p>\n",
       "</div>"
      ],
      "text/plain": [
       "                 t    i             x         y         r     theta  xK  tc  \\\n",
       "0     1.682542e+09  3.2 -4.091004e-06 -0.000005  0.000006  223.2863   0   0   \n",
       "1     1.682542e+09 -3.2  6.876370e-06 -0.000005  0.000007  320.0058   0   0   \n",
       "2     1.682542e+09  3.2 -4.352126e-07 -0.000005  0.000005  264.5267   0   0   \n",
       "3     1.682542e+09 -3.2  3.951737e-06 -0.000005  0.000006  305.3392   0   0   \n",
       "4     1.682542e+09  3.2 -3.359846e-06 -0.000005  0.000005  243.5022   0   0   \n",
       "...            ...  ...           ...       ...       ...       ...  ..  ..   \n",
       "1215  1.682551e+09 -3.2 -4.352126e-07 -0.000003  0.000003  243.8864   0   0   \n",
       "1216  1.682552e+09  3.2 -6.284479e-06 -0.000002  0.000006  200.4987   0   0   \n",
       "1217  1.682552e+09 -3.2  2.959457e-07 -0.000002  0.000003  261.9581   0   0   \n",
       "1218  1.682552e+09  3.2 -7.015637e-06 -0.000002  0.000007  194.4436   0   0   \n",
       "1219  1.682552e+09 -3.2 -1.166371e-06 -0.000002  0.000002  277.1792   0   0   \n",
       "\n",
       "      therm  trueGateDC     trueGateI        x2        y2        r2   theta2  \n",
       "0         0    0.000041  4.100051e-10 -0.003248 -0.000046 -0.025072 -179.208  \n",
       "1         0    0.000041  4.100051e-10 -0.003248 -0.000046 -0.025072 -179.208  \n",
       "2         0    0.000041  4.100051e-10 -0.003248 -0.000046 -0.025074 -179.208  \n",
       "3         0    0.000041  4.100051e-10 -0.003248 -0.000046 -0.025072 -179.208  \n",
       "4         0    0.000041  4.100051e-10 -0.003248 -0.000046 -0.025072 -179.208  \n",
       "...     ...         ...           ...       ...       ...       ...      ...  \n",
       "1215      0    0.000048  4.675921e-11 -0.003206 -0.000046 -0.025114 -179.196  \n",
       "1216      0    0.000048  4.675921e-11 -0.003206 -0.000046 -0.025114 -179.196  \n",
       "1217      0    0.000048  4.675921e-11 -0.003206 -0.000046 -0.025114 -179.196  \n",
       "1218      0    0.000048  4.675921e-11 -0.003206 -0.000046 -0.025114 -179.196  \n",
       "1219      0    0.000048  4.675921e-11 -0.003206 -0.000046 -0.025114 -179.196  \n",
       "\n",
       "[1220 rows x 15 columns]"
      ]
     },
     "execution_count": 3,
     "metadata": {},
     "output_type": "execute_result"
    }
   ],
   "source": [
    "resistivity_at_25_C"
   ]
  },
  {
   "cell_type": "markdown",
   "id": "5d909be0",
   "metadata": {},
   "source": [
    "To get a specific column, I can do:"
   ]
  },
  {
   "cell_type": "code",
   "execution_count": 4,
   "id": "322eb56b",
   "metadata": {},
   "outputs": [
    {
     "data": {
      "text/plain": [
       "0      -0.003248\n",
       "1      -0.003248\n",
       "2      -0.003248\n",
       "3      -0.003248\n",
       "4      -0.003248\n",
       "          ...   \n",
       "1215   -0.003206\n",
       "1216   -0.003206\n",
       "1217   -0.003206\n",
       "1218   -0.003206\n",
       "1219   -0.003206\n",
       "Name: x2, Length: 1220, dtype: float64"
      ]
     },
     "execution_count": 4,
     "metadata": {},
     "output_type": "execute_result"
    }
   ],
   "source": [
    "resistivity_at_25_C['x2']"
   ]
  },
  {
   "cell_type": "markdown",
   "id": "ca270534",
   "metadata": {},
   "source": [
    "Note that this will return a pandas data structure very similar to a list. However, it only visually shows the first and last 5 elements to its output. This is because the there are 1220 data points, and it does not want to print all these out and clutter up the notebook. Thus x2 data is the voltage across the sample. Depending on which lock in you use for what, it may be that the x1 data is the voltage across the sample. You should keep track of which you use for what during measurement, though it is usually quite easy to tell. It might make sense to just rename x1 and x2 x_830 and x_2124, after each lock in. But that requires some rewriting of the data collection code, which I'm not inclined to do right now. \n",
    "\n",
    "It also appears I switched up which end of the lock in was measuring which end of the sample. All good. I can correct this by doing:"
   ]
  },
  {
   "cell_type": "code",
   "execution_count": 5,
   "id": "6fa9e0ae",
   "metadata": {},
   "outputs": [],
   "source": [
    "resistivity_at_25_C['x2'] = resistivity_at_25_C['x2']  * -1"
   ]
  },
  {
   "cell_type": "code",
   "execution_count": 6,
   "id": "3c300f7a",
   "metadata": {},
   "outputs": [
    {
     "data": {
      "text/plain": [
       "0       0.003248\n",
       "1       0.003248\n",
       "2       0.003248\n",
       "3       0.003248\n",
       "4       0.003248\n",
       "          ...   \n",
       "1215    0.003206\n",
       "1216    0.003206\n",
       "1217    0.003206\n",
       "1218    0.003206\n",
       "1219    0.003206\n",
       "Name: x2, Length: 1220, dtype: float64"
      ]
     },
     "execution_count": 6,
     "metadata": {},
     "output_type": "execute_result"
    }
   ],
   "source": [
    "resistivity_at_25_C['x2']"
   ]
  },
  {
   "cell_type": "markdown",
   "id": "1c7a37c4",
   "metadata": {},
   "source": [
    "Excellent. Everything looks good. All my columns I expect to have data have data, and are roughly the same values that I want them to be. Now, I'll plot the main thing I was measuring: resistivity vs gate bias. I can do this with the matplotlib.pyplot function scatter(). \n",
    "\n",
    "I give it two inputs. The first is the x data, and the second is the y data. Note if these two arrays have different lengths, that may cause an error."
   ]
  },
  {
   "cell_type": "code",
   "execution_count": 7,
   "id": "3d249df5",
   "metadata": {},
   "outputs": [
    {
     "data": {
      "text/plain": [
       "Text(0, 0.5, 'Voltage across sample (V)')"
      ]
     },
     "execution_count": 7,
     "metadata": {},
     "output_type": "execute_result"
    },
    {
     "data": {
      "image/png": "[encoded data removed]",
      "text/plain": [
       "<Figure size 640x480 with 1 Axes>"
      ]
     },
     "metadata": {},
     "output_type": "display_data"
    }
   ],
   "source": [
    "plt.scatter(resistivity_at_25_C['trueGateDC'], resistivity_at_25_C['x2'])\n",
    "plt.title('Voltage across sample vs Back Gate Bias of GFET #15 (I made up a number) at 25 Celsius', fontsize = 10)\n",
    "plt.xlabel('Back Gate Voltage (V)')\n",
    "plt.ylabel('Voltage across sample (V)')"
   ]
  },
  {
   "cell_type": "markdown",
   "id": "30508197",
   "metadata": {},
   "source": [
    "I gave the plot a title and axis labels as well. While this is not essential, it is usually good practice so you don't get confused later. If I wanted to plot against resistance instead of voltage across the sample, I could create a new resistance column in the dataframe and plot against that instead\n",
    "\n",
    "\n",
    "\n",
    "\n",
    "\n"
   ]
  },
  {
   "cell_type": "code",
   "execution_count": 8,
   "id": "bb0a072b",
   "metadata": {},
   "outputs": [],
   "source": [
    "current = 1 # 1 amp, I am making up a current here, but you could calculate it by measuring across a known resistor at the start of the setup and log that with a lock in, or just use a rly big bias resistor\n",
    "resistivity_at_25_C['resistance'] = resistivity_at_25_C['x2']/current\n"
   ]
  },
  {
   "cell_type": "code",
   "execution_count": 9,
   "id": "b5ca3337",
   "metadata": {},
   "outputs": [
    {
     "data": {
      "text/plain": [
       "0       0.003248\n",
       "1       0.003248\n",
       "2       0.003248\n",
       "3       0.003248\n",
       "4       0.003248\n",
       "          ...   \n",
       "1215    0.003206\n",
       "1216    0.003206\n",
       "1217    0.003206\n",
       "1218    0.003206\n",
       "1219    0.003206\n",
       "Name: resistance, Length: 1220, dtype: float64"
      ]
     },
     "execution_count": 9,
     "metadata": {},
     "output_type": "execute_result"
    }
   ],
   "source": [
    "resistivity_at_25_C['resistance']"
   ]
  },
  {
   "cell_type": "code",
   "execution_count": 10,
   "id": "bb9ffd4e",
   "metadata": {},
   "outputs": [
    {
     "data": {
      "text/plain": [
       "Text(0, 0.5, 'Resistance of sample (ohms))')"
      ]
     },
     "execution_count": 10,
     "metadata": {},
     "output_type": "execute_result"
    },
    {
     "data": {
      "image/png": "[encoded data removed]",
      "text/plain": [
       "<Figure size 640x480 with 1 Axes>"
      ]
     },
     "metadata": {},
     "output_type": "display_data"
    }
   ],
   "source": [
    "plt.scatter(resistivity_at_25_C['trueGateDC'], resistivity_at_25_C['resistance'])\n",
    "plt.title('Resistance vs Back Gate Bias of GFET #15 (I made up a number) at 25 Celsius', fontsize = 10)\n",
    "plt.xlabel('Back Gate Voltage (V)')\n",
    "plt.ylabel('Resistance of sample (ohms))')"
   ]
  },
  {
   "cell_type": "markdown",
   "id": "334efe2f",
   "metadata": {},
   "source": [
    "Wow! Our GFET shows a anomalous dirac point in the vicinity of 100-150 volts. Also, there is significant hysteresis in the resistivity (which is proportional to the voltage across the sample). Although we have potential explanations for both of these phenomena, they require much greater investigation, which may prove to a be a very fruitful project!"
   ]
  },
  {
   "cell_type": "markdown",
   "id": "618d4b6e",
   "metadata": {},
   "source": [
    "Our data file is much bigger than these two columns, and there are many additional things we can look at. You should try plotting other relationship between variables below. To create a new cell, press the + symbol in the upper left of the notebook."
   ]
  },
  {
   "cell_type": "markdown",
   "id": "6426b8bc",
   "metadata": {},
   "source": [
    "Concluding, there are a couple things you should also be aware of:\n",
    "1. Although printed output remains, variables are not stored once the notebook is closed. You could potentially do this with dill, but its probably not worth the effort. Just rerun cells that you need when you reopen the notebook.\n",
    "\n",
    "2. Rerunning cells will write over old variables, so be careful about this as it can create a lot of confusion / errors if you are not careful\n",
    "\n",
    "3. Try to keep organized and not let your cells to big. Define functions where necessary. You'll also want to keep track of what your plotting in a notebook.\n",
    "\n",
    "I hope this helps, GL!"
   ]
  }
 ],
 "metadata": {
  "kernelspec": {
   "display_name": "Python 3 (ipykernel)",
   "language": "python",
   "name": "python3"
  },
  "language_info": {
   "codemirror_mode": {
    "name": "ipython",
    "version": 3
   },
   "file_extension": ".py",
   "mimetype": "text/x-python",
   "name": "python",
   "nbconvert_exporter": "python",
   "pygments_lexer": "ipython3",
   "version": "3.9.13"
  }
 },
 "nbformat": 4,
 "nbformat_minor": 5
}
