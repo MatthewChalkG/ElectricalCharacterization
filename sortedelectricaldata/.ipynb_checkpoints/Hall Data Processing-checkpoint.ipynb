{
 "cells": [
  {
   "cell_type": "code",
   "execution_count": 4,
   "id": "178513e1",
   "metadata": {},
   "outputs": [],
   "source": [
    "import numpy as np\n",
    "import matplotlib.pyplot as plt\n",
    "import pandas as pd\n"
   ]
  },
  {
   "cell_type": "code",
   "execution_count": 5,
   "id": "179cde58",
   "metadata": {},
   "outputs": [],
   "source": [
    "def avgHallSignal(data):\n",
    "    dcList = data['trueGateDC'].unique()\n",
    "    dataP = data[data['i'] == 3.2]\n",
    "    dataN = data[data['i'] == -3.2]\n",
    "    avgP = []\n",
    "    avgN = []\n",
    "\n",
    "    for dc in dcList:\n",
    "        dataDC = dataP[abs(dataP['trueGateDC'] - dc) < .1]\n",
    "        avgX = np.mean(dataDC['x'])\n",
    "        avgP += [avgX]\n",
    "                  \n",
    "    for dc in dcList:\n",
    "        dataDC = dataN[abs(dataN['trueGateDC'] - dc) < .1]\n",
    "        avgX = np.mean(dataDC['x'])\n",
    "        #linOffset = (list(dataDC['x'])[-1]-list(dataDC['x'])[0])/(len(dataDC)*2)\n",
    "        #linOffset = 0\n",
    "        linOffset = 0\n",
    "        avgN += [avgX-linOffset]\n",
    "    \n",
    "    avgDiff = [avgP[i]-avgN[i] for i in range(len(avgP))]\n",
    "    return avgDiff"
   ]
  },
  {
   "cell_type": "code",
   "execution_count": 6,
   "id": "6a96cdb8",
   "metadata": {},
   "outputs": [
    {
     "data": {
      "text/plain": [
       "<matplotlib.collections.PathCollection at 0x29aff0a85b0>"
      ]
     },
     "execution_count": 6,
     "metadata": {},
     "output_type": "execute_result"
    },
    {
     "data": {
      "image/png": "[encoded data removed]",
      "text/plain": [
       "<Figure size 640x480 with 1 Axes>"
      ]
     },
     "metadata": {},
     "output_type": "display_data"
    }
   ],
   "source": [
    "data = pd.read_csv(\"datalogging/Data/HallEffectDCBias/hallDCBiasSMU1707417140.txt\")\n",
    "#plt.scatter(data['t'], data['x'])\n",
    "#plt.scatter(data['t'], data['trueGateI']*100)\n",
    "\n",
    "dcList1 = data['trueGateDC'].unique()\n",
    "g1 = avgHallSignal(data)\n",
    "\n",
    "#dcList2 = data2['trueGateDC'].unique()\n",
    "#g2 = avgHallSignal(data2, dcList2)\n",
    "plt.scatter(dcList1, g1, label = 'up', color = 'gold')\n",
    "#plt.scatter(dcList2, g2, label= 'down', color = 'green')\n"
   ]
  },
  {
   "cell_type": "code",
   "execution_count": null,
   "id": "3bcc9b1a",
   "metadata": {},
   "outputs": [],
   "source": []
  }
 ],
 "metadata": {
  "kernelspec": {
   "display_name": "Python 3 (ipykernel)",
   "language": "python",
   "name": "python3"
  },
  "language_info": {
   "codemirror_mode": {
    "name": "ipython",
    "version": 3
   },
   "file_extension": ".py",
   "mimetype": "text/x-python",
   "name": "python",
   "nbconvert_exporter": "python",
   "pygments_lexer": "ipython3",
   "version": "3.9.13"
  }
 },
 "nbformat": 4,
 "nbformat_minor": 5
}
